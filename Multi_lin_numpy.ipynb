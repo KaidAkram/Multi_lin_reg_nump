{
  "nbformat": 4,
  "nbformat_minor": 0,
  "metadata": {
    "colab": {
      "provenance": []
    },
    "kernelspec": {
      "name": "python3",
      "display_name": "Python 3"
    },
    "language_info": {
      "name": "python"
    }
  },
  "cells": [
    {
      "cell_type": "markdown",
      "source": [
        "# Importing libraries"
      ],
      "metadata": {
        "id": "4agkd4B272xz"
      }
    },
    {
      "cell_type": "code",
      "execution_count": 4,
      "metadata": {
        "id": "meVKo2Ro7v3m"
      },
      "outputs": [],
      "source": [
        "import numpy as np\n",
        "import matplotlib.pyplot as plt\n",
        "from mpl_toolkits.mplot3d import Axes3D\n",
        "import matplotlib.animation as animation"
      ]
    },
    {
      "cell_type": "markdown",
      "source": [
        "# Generating the data"
      ],
      "metadata": {
        "id": "09NZXLdd9Xh5"
      }
    },
    {
      "cell_type": "code",
      "source": [
        "np.random.seed(42)\n",
        "\n",
        "m = 100\n",
        "n = 3\n",
        "\n",
        "X = np.random.rand(m,n)\n",
        "\n",
        "y = 3 * X[: , 0] + 2 * X[: , 1] + 4 * X[: , 2] + np.random.randn(m)\n",
        "\n",
        "outlier_indices = np.random.choice(range(m) , size =10 , replace = False)\n",
        "X[outlier_indices] = X[outlier_indices] * 10\n",
        "y[outlier_indices] = y[outlier_indices] + 50"
      ],
      "metadata": {
        "id": "wjG8lDW38m0W"
      },
      "execution_count": 5,
      "outputs": []
    },
    {
      "cell_type": "markdown",
      "source": [
        "# Z-Score to remove outliers"
      ],
      "metadata": {
        "id": "m7j5al0oCKbj"
      }
    },
    {
      "cell_type": "code",
      "source": [
        "def compute_zscore(X):\n",
        "\n",
        " mean =np.mean(X,axis=0)\n",
        " std =np.std(X,axis=0)\n",
        " zscore=(X-mean)/std\n",
        "\n",
        " return np.abs(zscore)\n",
        "\n",
        "\n",
        "\n",
        "X_mean = np.mean(X, axis=0)\n",
        "X_std = np.std(X, axis=0)\n",
        "X_scaled = (X -X_mean)/ X_std\n",
        "X_augmented = np.c_[np.ones((m, 1)), X_scaled]\n",
        "\n",
        "zscores = compute_zscore(X_augmented[: , 1:])\n",
        "\n",
        "\n",
        "threshold= 3\n",
        "\n",
        "non_outlier_indices = np.all(zscores < threshold, axis=1)\n",
        "\n",
        "X_filtered = X_augmented[non_outlier_indices]\n",
        "y_filtered = y[non_outlier_indices]\n",
        "\n",
        "\n",
        "print(f'number of data before cleaning {len(y)}')\n",
        "print(f'number of data after cleaning {len(y_filtered)}')"
      ],
      "metadata": {
        "id": "KETBKCZUCQ2t",
        "colab": {
          "base_uri": "https://localhost:8080/"
        },
        "outputId": "b3b28906-3c9a-4100-9dc0-3ea9289e9c90"
      },
      "execution_count": 7,
      "outputs": [
        {
          "output_type": "stream",
          "name": "stdout",
          "text": [
            "Z-Score 100\n",
            "number of data before cleaning 100\n",
            "number of data after cleaning 91\n"
          ]
        }
      ]
    },
    {
      "cell_type": "markdown",
      "source": [
        "# Cost with L1 and L2 regularization"
      ],
      "metadata": {
        "id": "UaZh9uR6aSUn"
      }
    },
    {
      "cell_type": "code",
      "source": [
        "def compute_cost(X,y,W ,lambda_l1=0 , lambda_l2=0 ) :\n",
        "    m = len(y)\n",
        "    predictions = X.dot(W)\n",
        "    resid = predictions - y\n",
        "\n",
        "    l2_reg = (lambda_l2 / (2*m))*np.sum(W[1:]**2)\n",
        "    l1_reg = (lambda_l1 /m) *np.sum(np.abs(W[1:]))\n",
        "\n",
        "\n",
        "    cost = (1/2*m) * np.sum(resid**2) + l2_reg + l1_reg\n",
        "    return cost"
      ],
      "metadata": {
        "id": "wC5neNgGaZKN"
      },
      "execution_count": 8,
      "outputs": []
    },
    {
      "cell_type": "markdown",
      "source": [
        "## GDC"
      ],
      "metadata": {
        "id": "Z3T3_y8Qc2Ht"
      }
    },
    {
      "cell_type": "code",
      "source": [
        "\n",
        "def gdc_tracked(X, y, w, learning_rate, n_epochs, lambda_l1=0, lambda_l2=0):\n",
        "    if y.ndim == 1:\n",
        "        y = y.reshape(-1, 1)\n",
        "\n",
        "    m, n = X.shape\n",
        "    cost_history = []\n",
        "    w_history = []\n",
        "\n",
        "    for epoch in range(n_epochs):\n",
        "        predictions = X @ w\n",
        "        resid = predictions - y\n",
        "\n",
        "        gradients = (1/m) * X.T @ resid\n",
        "\n",
        "        if lambda_l1 > 0:\n",
        "            gradients[1:] += (lambda_l1/m) * np.sign(w[1:]).reshape(-1, 1)\n",
        "\n",
        "        if lambda_l2 > 0:\n",
        "            gradients[1:] += (lambda_l2/m) * w[1:]\n",
        "\n",
        "        w -= learning_rate * gradients\n",
        "\n",
        "        cost = compute_cost(X, y, w, lambda_l1, lambda_l2)\n",
        "        cost_history.append(cost)\n",
        "        w_history.append(w.copy())\n",
        "\n",
        "        if epoch % 50 == 0:\n",
        "            print(f\"Epoch {epoch}: Cost={cost:.4f}\")\n",
        "    return w, cost_history, w_history\n"
      ],
      "metadata": {
        "id": "Vr3YNoSodEpE"
      },
      "execution_count": 19,
      "outputs": []
    },
    {
      "cell_type": "markdown",
      "source": [
        "# Training model"
      ],
      "metadata": {
        "id": "Rs4AfgDgfe2S"
      }
    },
    {
      "cell_type": "code",
      "source": [
        "initial_weights = np.zeros((X_filtered.shape[1], 1))\n",
        "learning_rate = 0.1\n",
        "n_epochs = 500\n",
        "lambda_l1 = 0.1\n",
        "lambda_l2 = 0.1\n",
        "\n",
        "\n",
        "\n",
        "weights, cost_history, weight_history = gdc_tracked(X_filtered, y_filtered, initial_weights, learning_rate, n_epochs, lambda_l1, lambda_l2)\n"
      ],
      "metadata": {
        "colab": {
          "base_uri": "https://localhost:8080/"
        },
        "id": "n8yWOCizfgze",
        "outputId": "18d29dcc-bded-4bd1-b485-8974b162130f"
      },
      "execution_count": 32,
      "outputs": [
        {
          "output_type": "stream",
          "name": "stdout",
          "text": [
            "Epoch 0: Cost=207400.5490\n"
          ]
        }
      ]
    },
    {
      "cell_type": "markdown",
      "source": [
        "# Convergence and Evolution of Weights"
      ],
      "metadata": {
        "id": "sDWIFfrKjDBd"
      }
    },
    {
      "cell_type": "code",
      "source": [],
      "metadata": {
        "id": "om3SFeFqj1um"
      },
      "execution_count": null,
      "outputs": []
    }
  ]
}